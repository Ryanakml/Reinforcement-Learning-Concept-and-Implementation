{
 "cells": [
  {
   "cell_type": "code",
   "execution_count": 10,
   "id": "f3ff69b6-4e9e-43ba-9d93-5f9364697af5",
   "metadata": {},
   "outputs": [],
   "source": [
    "import pandas as pd\n",
    "import numpy as np\n",
    "\n",
    "actions = ['up', 'down', 'left', 'right']\n",
    "goal_state = 24\n",
    "hole_states = [6, 9, 14, 20]\n",
    "gamma = 0.9  # discount factor\n",
    "\n",
    "def index_to_coords(index):\n",
    "    return index // 5 + 1, index % 5 + 1  # (row, col)\n",
    "\n",
    "def coords_to_index(row, col):\n",
    "    return (row - 1) * 5 + (col - 1)\n",
    "\n",
    "def get_next_state(state, action):\n",
    "    row, col = index_to_coords(state)\n",
    "    if action == 'up': row -= 1\n",
    "    elif action == 'down': row += 1\n",
    "    elif action == 'left': col -= 1\n",
    "    elif action == 'right': col += 1\n",
    "    if 1 <= row <= 5 and 1 <= col <= 5:\n",
    "        return coords_to_index(row, col)\n",
    "    return state"
   ]
  },
  {
   "cell_type": "code",
   "execution_count": 11,
   "id": "9264827a-c20b-4397-bbd4-14fb93ba3031",
   "metadata": {},
   "outputs": [
    {
     "name": "stdout",
     "output_type": "stream",
     "text": [
      "✅ Saved: v_values.csv\n"
     ]
    }
   ],
   "source": [
    "V = np.zeros(25)\n",
    "V[goal_state] = 1\n",
    "for hole in hole_states:\n",
    "    V[hole] = -1\n",
    "\n",
    "# Save initial values\n",
    "v_data = []\n",
    "for state in range(25):\n",
    "    row, col = index_to_coords(state)\n",
    "    v_data.append({\n",
    "        'state': f\"S{state}({row},{col})\",\n",
    "        'V(s)': V[state]\n",
    "    })\n",
    "\n",
    "df_v_values = pd.DataFrame(v_data)\n",
    "df_v_values.to_csv(\"assets/v_values.csv\", index=False)\n",
    "print(\"✅ Saved: v_values.csv\")"
   ]
  },
  {
   "cell_type": "code",
   "execution_count": 16,
   "id": "4e7e2c3b-bcbd-4ac0-b408-2c012bd504c2",
   "metadata": {},
   "outputs": [
    {
     "name": "stdout",
     "output_type": "stream",
     "text": [
      "✅ Saved: v_values.csv\n"
     ]
    }
   ],
   "source": [
    "import numpy as np\n",
    "import pandas as pd\n",
    "\n",
    "# Example: goal_state and hole_states\n",
    "goal_state = 24  # Goal state (index 24, S24)\n",
    "hole_states = [6, 9, 14, 20]  # Hole states (indices)\n",
    "\n",
    "# Initialize all values to 0\n",
    "V = np.zeros(25)\n",
    "\n",
    "# Set goal state to 1\n",
    "V[goal_state] = 1\n",
    "\n",
    "# Set hole states to -1\n",
    "for hole in hole_states:\n",
    "    V[hole] = -1\n",
    "\n",
    "# Save initial values in DataFrame\n",
    "v_data = []\n",
    "for state in range(25):\n",
    "    row, col = divmod(state, 5)  # Convert state index to (row, col) for the 5x5 grid\n",
    "    v_data.append({\n",
    "        'state': f\"S{state}({row},{col})\",\n",
    "        'V(s)': V[state]\n",
    "    })\n",
    "\n",
    "# Convert to DataFrame and save to CSV\n",
    "df_v_values = pd.DataFrame(v_data)\n",
    "df_v_values.to_csv(\"assets/v_values.csv\", index=False)\n",
    "\n",
    "print(\"✅ Saved: v_values.csv\")"
   ]
  },
  {
   "cell_type": "code",
   "execution_count": 22,
   "id": "3716416f-bc46-4877-854f-2bcfc56dfbc1",
   "metadata": {},
   "outputs": [
    {
     "name": "stdout",
     "output_type": "stream",
     "text": [
      "✅ Saved: assets/value_iteration.csv\n"
     ]
    }
   ],
   "source": [
    "import pandas as pd\n",
    "import numpy as np\n",
    "\n",
    "# Environment setup\n",
    "actions = ['up', 'down', 'left', 'right']\n",
    "goal_state = 24\n",
    "hole_states = [6, 9, 14, 20]\n",
    "gamma = 0.9  # discount factor\n",
    "theta = 1e-4  # threshold for convergence\n",
    "\n",
    "# Mapping from index to coordinates\n",
    "def index_to_coords(index):\n",
    "    return index // 5 + 1, index % 5 + 1  # (row, col) in 1-based index\n",
    "\n",
    "def coords_to_index(row, col):\n",
    "    return (row - 1) * 5 + (col - 1)\n",
    "\n",
    "# Transition model\n",
    "def get_next_state(state, action):\n",
    "    row, col = index_to_coords(state)\n",
    "    if action == 'up':\n",
    "        row -= 1\n",
    "    elif action == 'down':\n",
    "        row += 1\n",
    "    elif action == 'left':\n",
    "        col -= 1\n",
    "    elif action == 'right':\n",
    "        col += 1\n",
    "\n",
    "    if 1 <= row <= 5 and 1 <= col <= 5:\n",
    "        return coords_to_index(row, col)\n",
    "    else:\n",
    "        return state  # invalid move results in staying in same state\n",
    "\n",
    "# Initialize value table\n",
    "V = np.zeros(25)\n",
    "V[goal_state] = 1\n",
    "for hole in hole_states:\n",
    "    V[hole] = -1\n",
    "\n",
    "# Store initial values\n",
    "iterations_dict = {}\n",
    "row_labels = [f\"S{state}({index_to_coords(state)[0]},{index_to_coords(state)[1]})\" for state in range(25)]\n",
    "iterations_dict[0] = {label: round(V[i], 4) for i, label in enumerate(row_labels)}  # Initial values\n",
    "\n",
    "# Value Iteration\n",
    "iteration = 1\n",
    "while True:\n",
    "    delta = 0\n",
    "    new_V = V.copy()\n",
    "    for state in range(25):\n",
    "        if state == goal_state or state in hole_states:\n",
    "            continue\n",
    "        values = []\n",
    "        for action in actions:\n",
    "            next_state = get_next_state(state, action)\n",
    "            reward = 1 if next_state == goal_state else -1 if next_state in hole_states else 0\n",
    "            values.append(reward + gamma * V[next_state])\n",
    "        new_V[state] = max(values)\n",
    "        delta = max(delta, abs(V[state] - new_V[state]))\n",
    "    V = new_V\n",
    "    iterations_dict[iteration] = {label: round(V[i], 4) for i, label in enumerate(row_labels)}\n",
    "    iteration += 1\n",
    "    if delta < theta:\n",
    "        break\n",
    "\n",
    "# Convert to DataFrame and save\n",
    "df = pd.DataFrame(iterations_dict)\n",
    "df.index.name = 'State'\n",
    "df.to_csv(\"assets/value_iteration.csv\")\n",
    "print(\"✅ Saved: assets/value_iteration.csv\")"
   ]
  },
  {
   "cell_type": "code",
   "execution_count": 19,
   "id": "a6f5518c-fc15-4c6a-81ac-5f2b3ff5193a",
   "metadata": {},
   "outputs": [
    {
     "name": "stdout",
     "output_type": "stream",
     "text": [
      "✅ Saved heatmaps to assets/heatmaps/\n"
     ]
    }
   ],
   "source": [
    "import matplotlib.pyplot as plt\n",
    "import seaborn as sns\n",
    "import os\n",
    "\n",
    "df = pd.read_csv(\"assets/value_iteration.csv\", index_col=0)\n",
    "os.makedirs(\"assets/heatmaps\", exist_ok=True)\n",
    "\n",
    "for i in df.columns:\n",
    "    data = df[i].values.reshape(5, 5)\n",
    "    plt.figure(figsize=(6,5))\n",
    "    sns.heatmap(data, annot=True, cmap=\"YlGnBu\", cbar=False, fmt=\".2f\")\n",
    "    plt.title(f\"Iteration {i}\")\n",
    "    plt.savefig(f\"assets/heatmaps/iter_{i}.png\")\n",
    "    plt.close()\n",
    "\n",
    "print(\"✅ Saved heatmaps to assets/heatmaps/\")"
   ]
  },
  {
   "cell_type": "code",
   "execution_count": 15,
   "id": "d22c4f49-6743-40cb-9bf5-0e256220402b",
   "metadata": {},
   "outputs": [
    {
     "name": "stdout",
     "output_type": "stream",
     "text": [
      "✅ GIF saved to assets/value_iteration.gif\n"
     ]
    }
   ],
   "source": [
    "import imageio\n",
    "import glob\n",
    "\n",
    "img_paths = sorted(glob.glob(\"assets/heatmaps/*.png\"), key=lambda x: int(x.split('_')[-1].split('.')[0]))\n",
    "images = [imageio.v2.imread(path) for path in img_paths]\n",
    "imageio.mimsave(\"assets/value_iteration.gif\", images, duration=0.8, loop=0)\n",
    "print(\"✅ GIF saved to assets/value_iteration.gif\")"
   ]
  },
  {
   "cell_type": "code",
   "execution_count": null,
   "id": "18d8c56c-f57c-4ba7-a138-349638ba24ad",
   "metadata": {},
   "outputs": [],
   "source": []
  }
 ],
 "metadata": {
  "kernelspec": {
   "display_name": "Python 3 (ipykernel)",
   "language": "python",
   "name": "python3"
  },
  "language_info": {
   "codemirror_mode": {
    "name": "ipython",
    "version": 3
   },
   "file_extension": ".py",
   "mimetype": "text/x-python",
   "name": "python",
   "nbconvert_exporter": "python",
   "pygments_lexer": "ipython3",
   "version": "3.12.3"
  }
 },
 "nbformat": 4,
 "nbformat_minor": 5
}
